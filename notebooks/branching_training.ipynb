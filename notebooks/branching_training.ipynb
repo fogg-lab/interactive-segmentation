{
 "cells": [
  {
   "cell_type": "code",
   "execution_count": 1,
   "id": "ab2b8a47-678f-4291-b57c-f05fe052e24e",
   "metadata": {},
   "outputs": [],
   "source": [
    "import multiprocessing\n",
    "import nvidia_smi\n",
    "from os import path as osp, getcwd, environ\n",
    "import torch"
   ]
  },
  {
   "cell_type": "code",
   "execution_count": null,
   "id": "74605f9e-6f03-4433-a540-861f3edce420",
   "metadata": {},
   "outputs": [],
   "source": [
    "# Check GPU(s)\n",
    "!nvidia-smi -L"
   ]
  },
  {
   "cell_type": "code",
   "execution_count": 3,
   "id": "a391680f-4d6b-45de-b73c-a8a8696262e2",
   "metadata": {},
   "outputs": [],
   "source": [
    "n_gpus = torch.cuda.device_count()"
   ]
  },
  {
   "cell_type": "code",
   "execution_count": 4,
   "id": "e450c3d8-d3dd-464c-853f-a69564cdce0d",
   "metadata": {},
   "outputs": [
    {
     "data": {
      "text/plain": [
       "64"
      ]
     },
     "execution_count": 4,
     "metadata": {},
     "output_type": "execute_result"
    }
   ],
   "source": [
    "# Choose num workers based on number of available CPUs\n",
    "n_workers = 64#multiprocessing.cpu_count() - 2\n",
    "n_workers"
   ]
  },
  {
   "cell_type": "code",
   "execution_count": 5,
   "id": "18926ebb-5969-479e-8d1c-89a7f41780e9",
   "metadata": {},
   "outputs": [
    {
     "data": {
      "text/plain": [
       "128"
      ]
     },
     "execution_count": 5,
     "metadata": {},
     "output_type": "execute_result"
    }
   ],
   "source": [
    "# Choose batch size based on amount of available video memory\n",
    "# Tailored for the shape of each image/mask is (256,256)\n",
    "nvidia_smi.nvmlInit()\n",
    "handle = nvidia_smi.nvmlDeviceGetHandleByIndex(0)\n",
    "info = nvidia_smi.nvmlDeviceGetMemoryInfo(handle)\n",
    "avail_gpu_memory = info.free\n",
    "batch_size_choices = [2**n for n in range(0,10)]\n",
    "batch_size_pre_alignment = (avail_gpu_memory / 10e8)*4\n",
    "batch_size = [x for x in batch_size_choices if x < batch_size_pre_alignment][-1]\n",
    "batch_size\n",
    "# Multiply final result by 4 if image/mask shape is (128,128)\n",
    "# Or divide final result by 4 if image/mask shape is (512,512)"
   ]
  },
  {
   "cell_type": "code",
   "execution_count": 6,
   "id": "ce865f50-700e-487b-bb2a-8ca7c9097636",
   "metadata": {},
   "outputs": [],
   "source": [
    "batch_size = batch_size // 4    # For 512x512 images and segmentation masks"
   ]
  },
  {
   "cell_type": "code",
   "execution_count": 7,
   "id": "36b8a7a4-4416-4b62-b899-2a8ee1bd39d2",
   "metadata": {},
   "outputs": [
    {
     "data": {
      "text/plain": [
       "32"
      ]
     },
     "execution_count": 7,
     "metadata": {},
     "output_type": "execute_result"
    }
   ],
   "source": [
    "batch_size"
   ]
  },
  {
   "cell_type": "code",
   "execution_count": 8,
   "id": "ae96899a-d803-48e6-8649-30f844325f97",
   "metadata": {},
   "outputs": [],
   "source": [
    "distributed = False\n",
    "# see https://pytorch.org/docs/stable/distributed.html and related documentation for more info\n",
    "if distributed:\n",
    "    environ[\"WORLD_SIZE\"]=str(n_gpus)\n",
    "    environ[\"RANK\"]=\"0\"\n",
    "    environ[\"MASTER_ADDR\"]=\"127.0.0.1\"\n",
    "    environ[\"MASTER_PORT\"]=\"5000\""
   ]
  },
  {
   "cell_type": "code",
   "execution_count": 10,
   "id": "60321c0b-b448-4429-9593-98f5e60c1f6a",
   "metadata": {},
   "outputs": [],
   "source": [
    "# Training config variables\n",
    "dataset_path = osp.join(getcwd(), \"../config/mix_datasets_config.yml\")\n",
    "train_script = osp.join(getcwd(), \"../train.py\")\n",
    "model_path = osp.join(getcwd(), \"../models/segformerB3_mix.py\")\n",
    "pretrained_weights = osp.join(getcwd(), \"../pretrained/segformer_b3/mit_b3.pth\")\n",
    "exp_name = \"segformerB3_mix\""
   ]
  },
  {
   "cell_type": "code",
   "execution_count": null,
   "id": "ddbbce7b-a694-4205-a4e5-1259f5274be8",
   "metadata": {},
   "outputs": [],
   "source": [
    "execute_training_cmd"
   ]
  },
  {
   "cell_type": "code",
   "execution_count": null,
   "id": "a592a988-2a6e-436f-a122-ce76b5200856",
   "metadata": {},
   "outputs": [],
   "source": [
    "# Run training\n",
    "train_args = [\n",
    "    model_path,\n",
    "    f\"--pretrained_weights={pretrained_weights}\",\n",
    "    f\"--dataset_path={dataset_path}\",\n",
    "    \"--gpus=0\",\n",
    "    #f\"--ngpus={n_gpus}\",\n",
    "    f\"--workers=64\",#{n_workers}\",\n",
    "    f\"--batch-size=16\",#{batch_size}\",\n",
    "    f\"--exp-name={exp_name}\",\n",
    "    #\"--resume-exp=000\",\n",
    "    #\"--resume-prefix=42\",\n",
    "    #\"--start-epoch=43\"\n",
    "]\n",
    "\n",
    "execute_training_cmd = f\"python {train_script} {' '.join(train_args)}\"\n",
    "!{execute_training_cmd}"
   ]
  }
 ],
 "metadata": {
  "kernelspec": {
   "display_name": "mypykernel",
   "language": "python",
   "name": "mypykernel"
  },
  "language_info": {
   "codemirror_mode": {
    "name": "ipython",
    "version": 3
   },
   "file_extension": ".py",
   "mimetype": "text/x-python",
   "name": "python",
   "nbconvert_exporter": "python",
   "pygments_lexer": "ipython3",
   "version": "3.9.12"
  }
 },
 "nbformat": 4,
 "nbformat_minor": 5
}
